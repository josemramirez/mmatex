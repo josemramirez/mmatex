{
 "cells": [
  {
   "cell_type": "code",
   "execution_count": 28,
   "metadata": {},
   "outputs": [],
   "source": [
    "# -- To plot nice!\n",
    "node_attr = {\n",
    "    \"fontsize\": \"15\",\n",
    "    \"spacing\": \"10.1\",\n",
    "    \"fontname\":\"times bold italic\"\n",
    "}\n",
    "graph_attr = {\n",
    "    \"fontsize\": \"35\",\n",
    "    \"pad\":\"1.2\"\n",
    "}"
   ]
  },
  {
   "cell_type": "markdown",
   "metadata": {
    "collapsed": false
   },
   "source": [
    "---\n",
    "---\n",
    "# Mi Diagrama de MMaTeX"
   ]
  },
  {
   "cell_type": "code",
   "execution_count": 24,
   "metadata": {
    "collapsed": false
   },
   "outputs": [],
   "source": [
    "#!pip install diagrams"
   ]
  },
  {
   "cell_type": "code",
   "execution_count": null,
   "metadata": {
    "collapsed": false
   },
   "outputs": [],
   "source": [
    "from diagrams import Diagram, Cluster\n",
    "from diagrams.aws.compute import EC2\n",
    "from diagrams.aws.network import ELB\n",
    "from diagrams.aws.network import Route53\n",
    "from diagrams.onprem.database import PostgreSQL # Would typically use RDS from aws.database\n",
    "from diagrams.onprem.inmemory import Redis # Would typically use ElastiCache from aws.database\n",
    "from diagrams.onprem.container import Gvisor\n",
    "from diagrams.gcp.compute import AppEngine, Functions\n",
    "\n",
    "\n",
    "\n",
    "with Diagram(\"MMaTeX v0.1\", direction='LR', show=True,\n",
    "             graph_attr=graph_attr, node_attr=node_attr) as diag:\n",
    "    jinEnv1 = Redis(\"\\nLeyendo celdas de MMa\")\n",
    "    logSub1 = ELB(\"\\nUne todo en un\\n texto plano\")\n",
    "    read1 = Gvisor(\"\\nCompila y da\\n un artículo en PDF\")\n",
    "    TeXLib = Redis(\"\\nClase de LaTeX\")\n",
    "\n",
    "    with Cluster(\"Transformaciones\\n MMaTeX\", graph_attr=graph_attr):\n",
    "        func_group = [Functions(\"\\nAplicación de\\n de funciones de LaTeX\\n avanzadas \"),\n",
    "                    EC2(\"\\nCeldas de MMa pasan\\n a texto plano\"),\n",
    "                    ]\n",
    "    jinEnv1 >> func_group >> logSub1\n",
    "    logSub1 >> read1\n",
    "    TeXLib >> logSub1\n",
    "\n",
    "diag # This will illustrate the diagram if you are using a Google Colab or Jypiter notebook."
   ]
  },
  {
   "cell_type": "code",
   "execution_count": null,
   "metadata": {},
   "outputs": [],
   "source": [
    "# -- To plot nice!\n",
    "node_attr = {\n",
    "    \"fontsize\": \"25\",\n",
    "    \"spacing\": \"10.1\",\n",
    "    \"fontname\":\"times bold italic\"\n",
    "}\n",
    "graph_attr = {\n",
    "    \"fontsize\": \"45\",\n",
    "    \"pad\":\"1.2\"\n",
    "}"
   ]
  },
  {
   "cell_type": "code",
   "execution_count": 22,
   "metadata": {},
   "outputs": [],
   "source": [
    "from diagrams import Diagram, Cluster\n",
    "from diagrams.gcp.analytics import BigQuery, Dataflow, PubSub\n",
    "from diagrams.gcp.compute import AppEngine, Functions\n",
    "from diagrams.gcp.database import BigTable\n",
    "from diagrams.gcp.iot import IotCore\n",
    "from diagrams.gcp.storage import GCS\n",
    "\n",
    "with Diagram(\"¿Quíen puede usarlo?\", show=True,\n",
    "             graph_attr=graph_attr, node_attr=node_attr):\n",
    "    pubsub = PubSub(\"\\nPodrían usar\\n Mathematica\")\n",
    "\n",
    "    with Cluster(\"¿A quien puede\\n servirle?\", \n",
    "                 graph_attr=graph_attr):\n",
    "        [IotCore(\"\\nComercio Internacional\\n (estadística)\"),\n",
    "         IotCore(\"\\nPsicología\\n (estadística)\"),\n",
    "         IotCore(\"\\nEcología\\n (estadística)\"),\n",
    "         IotCore(\"\\nIngeniería\\n (cálculo)\")] >> pubsub\n",
    "\n",
    "    with Cluster(\"Cualquiera que:\", graph_attr=graph_attr):\n",
    "        with Cluster(\"Colecte datos\", graph_attr=graph_attr):\n",
    "            flow = Dataflow(\"\\nNecesite estadística\\n  o Cálculo\")\n",
    "\n",
    "        with Cluster(\"Exploración\\n de datos\", graph_attr=graph_attr):\n",
    "            flow >> BigQuery(\"Análisis\") >> GCS(\"Publicación\")\n",
    "                    \n",
    "\n",
    "        with Cluster(\"MMaTeX:\", graph_attr=graph_attr):\n",
    "            with Cluster(\"Mathematica\", graph_attr=graph_attr):\n",
    "                flow >> AppEngine(\"Calcular\") >> BigTable(\"Visualizar\")\n",
    "\n",
    "            with Cluster(\"Latex\", graph_attr=graph_attr):\n",
    "                flow >> Functions(\"Transcripción\") >> AppEngine(\"Compilar\")\n",
    "\n",
    "    pubsub >> flow"
   ]
  },
  {
   "cell_type": "markdown",
   "metadata": {},
   "source": [
    "Fantastico! Este codigo fue hecho por Claude:"
   ]
  },
  {
   "cell_type": "code",
   "execution_count": 5,
   "metadata": {},
   "outputs": [],
   "source": [
    "from diagrams import Diagram, Cluster \n",
    "from diagrams.onprem.client import Client\n",
    "from diagrams.onprem.compute import Server\n",
    "from diagrams.onprem.network import Internet\n",
    "from diagrams.onprem.iac import Terraform\n",
    "from diagrams.programming.language import Python\n",
    "\n",
    "# -- To plot nice!\n",
    "node_attr = {\n",
    "    \"fontsize\": \"15\",\n",
    "    \"spacing\": \"10.1\",\n",
    "    \"fontname\":\"times bold italic\"\n",
    "}\n",
    "graph_attr = {\n",
    "    \"fontsize\": \"35\",\n",
    "    \"pad\":\"1.2\"\n",
    "}\n",
    "\n",
    "with Diagram(\"Local Mathematica + LaTeX Solution\", show=True, \\\n",
    "graph_attr=graph_attr, node_attr=node_attr):\n",
    "    user = Client(\"User\")\n",
    "    \n",
    "    with Cluster(\"Local Machine\"):\n",
    "        mathematica = Server(\"Mathematica\")\n",
    "        latex = Server(\"LaTeX Distribution\")\n",
    "        \n",
    "        with Cluster(\"Python Environment\"):\n",
    "            python = Python()\n",
    "            latex_lib = Server(\"LaTeX Library\")\n",
    "            mma_lib = Server(\"Mathematica Library\")\n",
    "        \n",
    "    internet = Internet(\"Internet\")\n",
    "    \n",
    "    user >> mathematica\n",
    "    user >> latex\n",
    "    mathematica >> mma_lib\n",
    "    latex >> latex_lib\n",
    "    \n",
    "    internet >> mathematica\n",
    "    internet >> latex\n",
    "    internet >> python\n",
    "    \n",
    "    terraform = Terraform(\"Setup Script\")\n",
    "    terraform >> mathematica\n",
    "    terraform >> latex\n",
    "    terraform >> python"
   ]
  },
  {
   "cell_type": "code",
   "execution_count": 15,
   "metadata": {},
   "outputs": [],
   "source": [
    "from diagrams import Diagram, Cluster\n",
    "from diagrams.aws.compute import EC2\n",
    "from diagrams.aws.network import ELB\n",
    "from diagrams.onprem.database import PostgreSQL\n",
    "from diagrams.onprem.inmemory import Redis\n",
    "from diagrams.onprem.client import Client\n",
    "\n",
    "# -- To plot nice!\n",
    "node_attr = {\n",
    "    \"fontsize\": \"15\",\n",
    "    \"spacing\": \"10.1\",\n",
    "    \"fontname\":\"times bold italic\"\n",
    "}\n",
    "graph_attr = {\n",
    "    \"fontsize\": \"35\",\n",
    "    \"pad\":\"1.2\"\n",
    "}\n",
    "\n",
    "with Diagram(\"\\nInstalacion de Mathematica y LaTeX\", direction='LR', \\\n",
    "show=True, graph_attr=graph_attr, node_attr=node_attr):\n",
    "    usuario = Client(\"Usuario\")\n",
    "    \n",
    "    with Cluster(\"\\nDescargar e Instalar\", graph_attr=graph_attr):\n",
    "        descarga = [PostgreSQL(\"\\nDescargar\\nMathematica\"),\n",
    "                    Redis(\"\\nDescargar\\nDistribucion de\\nLaTeX\")]\n",
    "        \n",
    "        instala = [EC2(\"\\nInstalar\\nMathematica\"),\n",
    "                   ELB(\"\\nInstalar\\nDistribucion de\\nLaTeX\")]\n",
    "\n",
    "    usuario >> descarga\n",
    "\n",
    "    with Cluster(\"\\nConfiguracion\", graph_attr=graph_attr):\n",
    "        configura = EC2(\"\\nConfigurar Mathematica\\npara usar LaTeX \\\n",
    "instalado\")\n",
    "\n",
    "    instala >> configura\n",
    "\n",
    "    with Cluster(\"\\nUso\", graph_attr=graph_attr):\n",
    "        uso = [PostgreSQL(\"\\nUsar Mathematica\\npara crear\\n\\\n",
    "documentos\"),\n",
    "               Redis(\"\\nMathematica llama\\na LaTeX para\\ncomponer \\\n",
    "salida\")]\n",
    "        \n",
    "    configura >> uso"
   ]
  }
 ],
 "metadata": {
  "kernelspec": {
   "display_name": "Python 3",
   "language": "python",
   "name": "python3"
  },
  "language_info": {
   "codemirror_mode": {
    "name": "ipython",
    "version": 3
   },
   "file_extension": ".py",
   "mimetype": "text/x-python",
   "name": "python",
   "nbconvert_exporter": "python",
   "pygments_lexer": "ipython3",
   "version": "3.12.2"
  }
 },
 "nbformat": 4,
 "nbformat_minor": 0
}
